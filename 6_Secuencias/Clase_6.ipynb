{
  "nbformat": 4,
  "nbformat_minor": 0,
  "metadata": {
    "colab": {
      "provenance": [],
      "authorship_tag": "ABX9TyOaJZqlXlzoX3TNn/fcqYYo",
      "include_colab_link": true
    },
    "kernelspec": {
      "name": "python3",
      "display_name": "Python 3"
    },
    "language_info": {
      "name": "python"
    }
  },
  "cells": [
    {
      "cell_type": "markdown",
      "metadata": {
        "id": "view-in-github",
        "colab_type": "text"
      },
      "source": [
        "<a href=\"https://colab.research.google.com/github/AgustinaStout/recursos-analisis-datos/blob/main/6_Secuencias/Clase_6.ipynb\" target=\"_parent\"><img src=\"https://colab.research.google.com/assets/colab-badge.svg\" alt=\"Open In Colab\"/></a>"
      ]
    },
    {
      "cell_type": "markdown",
      "source": [
        "Ejercicio 1.1 - While"
      ],
      "metadata": {
        "id": "Xunx0ED58HUC"
      }
    },
    {
      "cell_type": "code",
      "execution_count": null,
      "metadata": {
        "id": "8ZnM514y5lYu",
        "colab": {
          "base_uri": "https://localhost:8080/"
        },
        "outputId": "f817018a-d91e-4a1d-f672-7b43c62c801b"
      },
      "outputs": [
        {
          "name": "stdout",
          "output_type": "stream",
          "text": [
            "Ingrese contraseñahlhasljah\n",
            "La contraseña hlhasljah es incorrecta re intente por favor\n",
            "Ingrese su contraseña nuevamente: PedroLozano1111\n"
          ]
        }
      ],
      "source": [
        "password_usuario =\"PedroLozano1111\"\n",
        "password_ingresada =input(\"Ingrese contraseña\")\n",
        "\n",
        "while (password_usuario != password_ingresada):\n",
        "  print(\"La contraseña\",password_ingresada,\"es incorrecta re intente por favor\")\n",
        "  password_ingresada = input(\"Ingrese su contraseña nuevamente: \")"
      ]
    },
    {
      "cell_type": "code",
      "source": [
        "numero_ciclo_while = 1\n",
        "while numero_ciclo_while < 10:\n",
        "  print(numero_ciclo_while)\n",
        "  numero_ciclo_while += 1"
      ],
      "metadata": {
        "colab": {
          "base_uri": "https://localhost:8080/"
        },
        "id": "Yv-HSDbN9abX",
        "outputId": "9d05b288-f532-4c69-ae21-4176ccb034fa"
      },
      "execution_count": null,
      "outputs": [
        {
          "output_type": "stream",
          "name": "stdout",
          "text": [
            "1\n",
            "2\n",
            "3\n",
            "4\n",
            "5\n",
            "6\n",
            "7\n",
            "8\n",
            "9\n"
          ]
        }
      ]
    },
    {
      "cell_type": "markdown",
      "source": [
        "while() with else"
      ],
      "metadata": {
        "id": "lYNfG8zj-8Pm"
      }
    },
    {
      "cell_type": "code",
      "source": [
        "nombre_usuario = \"Agustina\"\n",
        "nombre_ingresado = input(\"Ingrese su nombre: \")\n",
        "\n",
        "while (nombre_usuario != nombre_ingresado):\n",
        "  print(\"El usuario\",nombre_ingresado,\"es incorrecto re intente por favor\")\n",
        "  nombre_ingresado = input(\"Ingrese su nombre nuevamente: \")\n",
        "else:\n",
        "  print(\"Bienvenido\",nombre_ingresado)"
      ],
      "metadata": {
        "colab": {
          "base_uri": "https://localhost:8080/"
        },
        "id": "mWSDG4L4-zjE",
        "outputId": "a0657b59-51bd-4bfa-dbc2-caa2243d03ff"
      },
      "execution_count": null,
      "outputs": [
        {
          "output_type": "stream",
          "name": "stdout",
          "text": [
            "Ingrese su nombre: Agustina\n",
            "Bienvenido Agustina\n"
          ]
        }
      ]
    },
    {
      "cell_type": "markdown",
      "source": [
        "while() with break"
      ],
      "metadata": {
        "id": "gFBaFEtN_KDn"
      }
    },
    {
      "cell_type": "code",
      "source": [
        "numero_entero=0\n",
        "while numero_entero<10:\n",
        "  print(\"El número entero es:\", numero_entero)\n",
        "  numero_entero+=1\n",
        "  if numero_entero == 5:\n",
        "    print(\"¡El numero entero llegó a 5, terminando el bucle!\")\n",
        "    break\n"
      ],
      "metadata": {
        "colab": {
          "base_uri": "https://localhost:8080/"
        },
        "id": "Vmt0vTm3_Iqv",
        "outputId": "87a226a7-516d-40e0-c1e3-f9df23c7939c"
      },
      "execution_count": null,
      "outputs": [
        {
          "output_type": "stream",
          "name": "stdout",
          "text": [
            "El número entero es: 0\n",
            "El número entero es: 1\n",
            "El número entero es: 2\n",
            "El número entero es: 3\n",
            "El número entero es: 4\n",
            "¡El numero entero llegó a 5, terminando el bucle!\n"
          ]
        }
      ]
    },
    {
      "cell_type": "markdown",
      "source": [
        "while() with continue"
      ],
      "metadata": {
        "id": "lwQFeS0HAehP"
      }
    },
    {
      "cell_type": "code",
      "source": [
        "numero_a_dividir = 10\n",
        "divisor_actual = -6\n",
        "divisor_final = 5\n",
        "\n",
        "while (divisor_actual <= divisor_final):\n",
        "  divisor_actual += 1\n",
        "  if divisor_actual == 0:\n",
        "    continue\n",
        "  resultado = round(numero_a_dividir/divisor_actual,1)\n",
        "  mensaje = \"La division de {} entre {} da como resultado {}\".format(numero_a_dividir, divisor_actual, resultado)\n",
        "  print(mensaje)"
      ],
      "metadata": {
        "colab": {
          "base_uri": "https://localhost:8080/"
        },
        "id": "MS3ho1muAfcx",
        "outputId": "359d0da5-a9af-475c-c2dc-9926a44aa601"
      },
      "execution_count": null,
      "outputs": [
        {
          "output_type": "stream",
          "name": "stdout",
          "text": [
            "La division de 10 entre -5 da como resultado -2.0\n",
            "La division de 10 entre -4 da como resultado -2.5\n",
            "La division de 10 entre -3 da como resultado -3.3\n",
            "La division de 10 entre -2 da como resultado -5.0\n",
            "La division de 10 entre -1 da como resultado -10.0\n",
            "La division de 10 entre 1 da como resultado 10.0\n",
            "La division de 10 entre 2 da como resultado 5.0\n",
            "La division de 10 entre 3 da como resultado 3.3\n",
            "La division de 10 entre 4 da como resultado 2.5\n",
            "La division de 10 entre 5 da como resultado 2.0\n",
            "La division de 10 entre 6 da como resultado 1.7\n"
          ]
        }
      ]
    },
    {
      "cell_type": "markdown",
      "source": [
        "for()"
      ],
      "metadata": {
        "id": "YaidMoyzBDX7"
      }
    },
    {
      "cell_type": "code",
      "source": [
        "texto = \"Este es un mensaje de python que contiene 55 caracteres\"\n",
        "numero_letra = 1\n",
        "\n",
        "for letra in texto:\n",
        "  mensaje = \"La letra {} es {}\".format(numero_letra,letra)\n",
        "  print(mensaje)\n",
        "  numero_letra += 1"
      ],
      "metadata": {
        "id": "__55A5fYBEmg"
      },
      "execution_count": null,
      "outputs": []
    },
    {
      "cell_type": "markdown",
      "source": [
        "for in range()"
      ],
      "metadata": {
        "id": "1KzDUyLsBlsk"
      }
    },
    {
      "cell_type": "code",
      "source": [
        "for numero in range(10, 20):\n",
        "    print(numero)"
      ],
      "metadata": {
        "colab": {
          "base_uri": "https://localhost:8080/"
        },
        "id": "UrWP2ZR5BnXB",
        "outputId": "12376ceb-427f-4d92-9ffb-1c24b3fafcf1"
      },
      "execution_count": null,
      "outputs": [
        {
          "output_type": "stream",
          "name": "stdout",
          "text": [
            "10\n",
            "11\n",
            "12\n",
            "13\n",
            "14\n",
            "15\n",
            "16\n",
            "17\n",
            "18\n",
            "19\n"
          ]
        }
      ]
    },
    {
      "cell_type": "code",
      "source": [
        "for valores_pares in range(2, 14, 2):\n",
        "    print(valores_pares)"
      ],
      "metadata": {
        "colab": {
          "base_uri": "https://localhost:8080/"
        },
        "id": "e6cGhWIGCCml",
        "outputId": "f46cfc9e-9e96-4f36-839b-c3a56b11f82d"
      },
      "execution_count": null,
      "outputs": [
        {
          "output_type": "stream",
          "name": "stdout",
          "text": [
            "2\n",
            "4\n",
            "6\n",
            "8\n",
            "10\n",
            "12\n"
          ]
        }
      ]
    },
    {
      "cell_type": "markdown",
      "source": [
        "**COLECCIONES DE DATOS**\n",
        "\n",
        "list\n",
        "Las listas se definen con [ ] y los valores se separan por ,\n",
        "\n",
        "Las listas permiten guardar diferentes tipos de datos, en un solo objeto."
      ],
      "metadata": {
        "id": "c-7z7ni_CUhC"
      }
    },
    {
      "cell_type": "code",
      "source": [
        "lista_nombres = [\"andres\", \"maria\", \"fernando\"]\n",
        "lista_numerica = [15, 6, 8.9, -5.5]\n",
        "lista_mezclada = [\"azul\", 1, False, \"programar\", 8.8]\n",
        "lista_apellidos = [\"perez\",\"garcia\", \"muñoz\",\"ruiz\"]\n",
        "\n",
        "print(\"El 1er apellido de la lista tiene indice 0 y es:\", lista_apellidos[0])\n",
        "print(\"El 3er apellido de la lista tiene indice 2 y es:\", lista_apellidos[2])"
      ],
      "metadata": {
        "colab": {
          "base_uri": "https://localhost:8080/"
        },
        "id": "tawrYjuOCENI",
        "outputId": "62c2e5ca-930d-41ec-bfc0-49753a14db77"
      },
      "execution_count": null,
      "outputs": [
        {
          "output_type": "stream",
          "name": "stdout",
          "text": [
            "El 1er apellido de la lista tiene indice 0 y es: perez\n",
            "El 3er apellido de la lista tiene indice 2 y es: muñoz\n"
          ]
        }
      ]
    },
    {
      "cell_type": "code",
      "source": [
        "lista_numerica=[27,59,29,61,93]\n",
        "lista_fruta=[\"pera\",\"melon\",\"frutilla\"]\n",
        "lista_datos_personales = [\"Agustina\", 27, True, \"cocina\"]\n",
        "type(lista_datos_personales)"
      ],
      "metadata": {
        "colab": {
          "base_uri": "https://localhost:8080/"
        },
        "id": "3LT81H_SDgxY",
        "outputId": "d4cefcc7-44af-4f65-e190-5f6d61d7595f"
      },
      "execution_count": null,
      "outputs": [
        {
          "output_type": "execute_result",
          "data": {
            "text/plain": [
              "list"
            ]
          },
          "metadata": {},
          "execution_count": 18
        }
      ]
    },
    {
      "cell_type": "code",
      "source": [
        "lista_numerica.append(80)\n",
        "lista_numerica"
      ],
      "metadata": {
        "colab": {
          "base_uri": "https://localhost:8080/"
        },
        "id": "-cX0hb-mFC7_",
        "outputId": "9de5332e-6e7b-4fde-aff1-0ecb08123c64"
      },
      "execution_count": null,
      "outputs": [
        {
          "output_type": "execute_result",
          "data": {
            "text/plain": [
              "[27, 59, 29, 61, 93, 80]"
            ]
          },
          "metadata": {},
          "execution_count": 19
        }
      ]
    },
    {
      "cell_type": "code",
      "source": [
        "lista_fruta.extend([\"mango\",\"coco\",\"manzana\"])\n",
        "lista_fruta"
      ],
      "metadata": {
        "colab": {
          "base_uri": "https://localhost:8080/"
        },
        "id": "JfXOAGAmFF0G",
        "outputId": "c5ce0677-1483-48fb-9fa1-9910f902f166"
      },
      "execution_count": null,
      "outputs": [
        {
          "output_type": "execute_result",
          "data": {
            "text/plain": [
              "['pera', 'melon', 'frutilla', 'mango', 'coco', 'manzana']"
            ]
          },
          "metadata": {},
          "execution_count": 20
        }
      ]
    },
    {
      "cell_type": "code",
      "source": [
        "lista_fruta.insert(2, \"kiwi\")\n",
        "lista_fruta"
      ],
      "metadata": {
        "colab": {
          "base_uri": "https://localhost:8080/"
        },
        "id": "54bg5IRkFOI7",
        "outputId": "5c1e1a27-4a4c-49a0-ae87-d3100d738ded"
      },
      "execution_count": null,
      "outputs": [
        {
          "output_type": "execute_result",
          "data": {
            "text/plain": [
              "['pera', 'melon', 'kiwi', 'frutilla', 'mango', 'coco', 'manzana']"
            ]
          },
          "metadata": {},
          "execution_count": 22
        }
      ]
    },
    {
      "cell_type": "code",
      "source": [
        "ultimo_dato = lista_datos_personales.pop()\n",
        "print(\"El ultimo dato era: \", ultimo_dato)\n",
        "print(\"El la lista quedo: \",lista_datos_personales)"
      ],
      "metadata": {
        "colab": {
          "base_uri": "https://localhost:8080/"
        },
        "id": "H57zKfXTFhYw",
        "outputId": "979ee403-f6bc-4900-c98e-e00bed14323f"
      },
      "execution_count": null,
      "outputs": [
        {
          "output_type": "stream",
          "name": "stdout",
          "text": [
            "El ultimo dato era:  cocina\n",
            "El la lista quedo:  ['Agustina', 27, True]\n"
          ]
        }
      ]
    },
    {
      "cell_type": "code",
      "source": [
        "lista_fruta.remove(\"pera\")\n",
        "lista_fruta"
      ],
      "metadata": {
        "colab": {
          "base_uri": "https://localhost:8080/"
        },
        "id": "rVClFyftFk86",
        "outputId": "261ea5fa-aafb-485e-d197-d752a5032021"
      },
      "execution_count": null,
      "outputs": [
        {
          "output_type": "execute_result",
          "data": {
            "text/plain": [
              "['melon', 'kiwi', 'frutilla', 'mango', 'coco', 'manzana']"
            ]
          },
          "metadata": {},
          "execution_count": 24
        }
      ]
    },
    {
      "cell_type": "code",
      "source": [
        "lista_numerica.sort()\n",
        "lista_numerica"
      ],
      "metadata": {
        "colab": {
          "base_uri": "https://localhost:8080/"
        },
        "id": "uWHyEO78FqI7",
        "outputId": "aa21178b-5975-49ac-e200-1c8b3e019422"
      },
      "execution_count": null,
      "outputs": [
        {
          "output_type": "execute_result",
          "data": {
            "text/plain": [
              "[27, 29, 59, 61, 80, 93]"
            ]
          },
          "metadata": {},
          "execution_count": 26
        }
      ]
    },
    {
      "cell_type": "code",
      "source": [
        "lista_fruta.reverse()\n",
        "lista_fruta\n"
      ],
      "metadata": {
        "colab": {
          "base_uri": "https://localhost:8080/"
        },
        "id": "KHeoEJmkFzgs",
        "outputId": "d2e98347-6c4d-46c7-d72a-9022c5a7482d"
      },
      "execution_count": null,
      "outputs": [
        {
          "output_type": "execute_result",
          "data": {
            "text/plain": [
              "['manzana', 'coco', 'mango', 'frutilla', 'kiwi', 'melon']"
            ]
          },
          "metadata": {},
          "execution_count": 32
        }
      ]
    },
    {
      "cell_type": "markdown",
      "source": [
        "len()"
      ],
      "metadata": {
        "id": "CR6G3LNjF3We"
      }
    },
    {
      "cell_type": "code",
      "source": [
        "len=(lista_fruta)"
      ],
      "metadata": {
        "id": "WmELDAPKGGUA"
      },
      "execution_count": null,
      "outputs": []
    },
    {
      "cell_type": "markdown",
      "source": [
        "tuple / Acciones con tuplas"
      ],
      "metadata": {
        "id": "LxH6ei4RGUcR"
      }
    },
    {
      "cell_type": "code",
      "source": [
        "tupla_profesiones=(\"medico\",\"mecanico\",\"profesora de danza\",\"fumigador\")\n",
        "indice_mecanico = tupla_profesiones.index(\"mecanico\")\n",
        "print(\"El indice de mecanicos es\", indice_mecanico)"
      ],
      "metadata": {
        "colab": {
          "base_uri": "https://localhost:8080/"
        },
        "id": "29V5xyYmGVa4",
        "outputId": "4a877935-541a-40c5-b721-921f035b0a1d"
      },
      "execution_count": null,
      "outputs": [
        {
          "output_type": "stream",
          "name": "stdout",
          "text": [
            "El indice de mecanicos es 1\n"
          ]
        }
      ]
    },
    {
      "cell_type": "code",
      "source": [
        "tupla_profesiones=(\"medico\",\"mecanico\",\"fumigador\",\"profesora de danza\",\"fumigador\")\n",
        "cant_fumigador = tupla_profesiones.count(\"fumigador\")\n",
        "print(\"La cantidad de fumigadores es:\", cant_fumigador)"
      ],
      "metadata": {
        "colab": {
          "base_uri": "https://localhost:8080/"
        },
        "id": "Z-Y6WCCyH7N1",
        "outputId": "e7d60f96-0032-4335-94c9-da00aeeb3f73"
      },
      "execution_count": null,
      "outputs": [
        {
          "output_type": "stream",
          "name": "stdout",
          "text": [
            "La cantidad de fumigadores es: 2\n"
          ]
        }
      ]
    },
    {
      "cell_type": "markdown",
      "source": [
        "set - no puede haber duplicados, en cambio, si permiten quitar y poner elementos"
      ],
      "metadata": {
        "id": "b_2zfvdcIoZ9"
      }
    },
    {
      "cell_type": "code",
      "source": [
        "lista_valores_repetidos = (87,31,2,2,3,3,1,5,4,3,23,23,12,9,8,99,11,56,26,23,71,15,124,8,1,3,1,9,49,1,5,1)\n",
        "lista_valores_repetidos"
      ],
      "metadata": {
        "colab": {
          "base_uri": "https://localhost:8080/"
        },
        "id": "ucpLqfPbIuKv",
        "outputId": "b70aebc6-25b3-4aa9-f138-dc2a74e422a1"
      },
      "execution_count": null,
      "outputs": [
        {
          "output_type": "execute_result",
          "data": {
            "text/plain": [
              "(87,\n",
              " 31,\n",
              " 2,\n",
              " 2,\n",
              " 3,\n",
              " 3,\n",
              " 1,\n",
              " 5,\n",
              " 4,\n",
              " 3,\n",
              " 23,\n",
              " 23,\n",
              " 12,\n",
              " 9,\n",
              " 8,\n",
              " 99,\n",
              " 11,\n",
              " 56,\n",
              " 26,\n",
              " 23,\n",
              " 71,\n",
              " 15,\n",
              " 124,\n",
              " 8,\n",
              " 1,\n",
              " 3,\n",
              " 1,\n",
              " 9,\n",
              " 49,\n",
              " 1,\n",
              " 5,\n",
              " 1)"
            ]
          },
          "metadata": {},
          "execution_count": 44
        }
      ]
    },
    {
      "cell_type": "code",
      "source": [
        "conjunto_unicos = set(lista_valores_repetidos)\n",
        "print(\"Elementos únicos:\", conjunto_unicos)\n",
        "type(conjunto_unicos)"
      ],
      "metadata": {
        "colab": {
          "base_uri": "https://localhost:8080/"
        },
        "id": "SLG2OO_xI5z6",
        "outputId": "bd38efe6-1573-4b29-ccfb-224c68d6f9a5"
      },
      "execution_count": null,
      "outputs": [
        {
          "output_type": "stream",
          "name": "stdout",
          "text": [
            "Elementos únicos: {1, 2, 3, 4, 5, 8, 9, 11, 12, 15, 23, 26, 31, 49, 56, 71, 87, 99, 124}\n"
          ]
        },
        {
          "output_type": "execute_result",
          "data": {
            "text/plain": [
              "set"
            ]
          },
          "metadata": {},
          "execution_count": 42
        }
      ]
    },
    {
      "cell_type": "markdown",
      "source": [
        "dict{} Los diccionarios se definen con {} y los elementos se separan por , pero para separa la clave del valor usamos :"
      ],
      "metadata": {
        "id": "s3H4hg_YJN7d"
      }
    },
    {
      "cell_type": "code",
      "source": [
        "info_agus = {\n",
        "    \"nombre\" : \"Agustina\",\n",
        "    \"apellido\" : \"Stout\",\n",
        "    \"edad\" : \"27\",\n",
        "    \"es_alumna\" : True,\n",
        "    \"es_profe\" : False,\n",
        "}\n",
        "\n",
        "apellido_persona = info_agus.get(\"apellido\")\n",
        "print(\"Apellido:\", apellido_persona)\n",
        "keys_diccionario = info_agus.keys()\n",
        "print(\"Keys:\", keys_diccionario)\n",
        "values_diccionario = info_agus.values()\n",
        "print(\"Values:\", values_diccionario)\n",
        "items_diccionario = info_agus.items()\n",
        "print(\"Items:\", items_diccionario)\n",
        "edad_persona = info_agus.pop(\"edad\")\n",
        "print(\"Edad:\", edad_persona)\n",
        "print(\"Diccionario después de pop:\", info_agus)\n",
        "info_agus.clear()\n",
        "print(\"Diccionario después de clear:\", info_agus)"
      ],
      "metadata": {
        "colab": {
          "base_uri": "https://localhost:8080/"
        },
        "id": "HWl0WUDfJPrL",
        "outputId": "7c18bff6-b208-45b1-e7e3-b0286222c654"
      },
      "execution_count": null,
      "outputs": [
        {
          "output_type": "stream",
          "name": "stdout",
          "text": [
            "Apellido: Stout\n",
            "Keys: dict_keys(['nombre', 'apellido', 'edad', 'es_alumna', 'es_profe'])\n",
            "Values: dict_values(['Agustina', 'Stout', '27', True, False])\n",
            "Items: dict_items([('nombre', 'Agustina'), ('apellido', 'Stout'), ('edad', '27'), ('es_alumna', True), ('es_profe', False)])\n",
            "Edad: 27\n",
            "Diccionario después de pop: {'nombre': 'Agustina', 'apellido': 'Stout', 'es_alumna': True, 'es_profe': False}\n",
            "Diccionario después de clear: {}\n"
          ]
        }
      ]
    }
  ]
}