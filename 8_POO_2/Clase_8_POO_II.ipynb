{
  "nbformat": 4,
  "nbformat_minor": 0,
  "metadata": {
    "colab": {
      "provenance": [],
      "authorship_tag": "ABX9TyPJq3tyijW+QAJOjt/otSBT",
      "include_colab_link": true
    },
    "kernelspec": {
      "name": "python3",
      "display_name": "Python 3"
    },
    "language_info": {
      "name": "python"
    }
  },
  "cells": [
    {
      "cell_type": "markdown",
      "metadata": {
        "id": "view-in-github",
        "colab_type": "text"
      },
      "source": [
        "<a href=\"https://colab.research.google.com/github/AgustinaStout/recursos-analisis-datos/blob/main/8_POO_2/Clase_8_POO_II.ipynb\" target=\"_parent\"><img src=\"https://colab.research.google.com/assets/colab-badge.svg\" alt=\"Open In Colab\"/></a>"
      ]
    },
    {
      "cell_type": "markdown",
      "source": [
        "Ahora tenemos que crear una clase llamada EmpleadoAlkemy que tambien va a tener un nombre, apellido, dni, nacionalidad y domicilio. Pero tambien va a tener valores nuevos como cvu, cargo y estado_cobro (default False), ademas tenemos que definir un método depositarSueldo\n",
        "\n",
        "Como no queremos repetir el código que hicimos antes podemos usar herencia. Usando la clase Persona como padre y EmpleadoAlkemy como hija.\n",
        "\n",
        "Nota: super() sirve para llamar a los métodos de la clase padre desde la clase hija."
      ],
      "metadata": {
        "id": "54H4Oa68HGCd"
      }
    },
    {
      "cell_type": "code",
      "source": [
        "class Persona:\n",
        "  def __init__(self, nombre, apellido, dni, nacionalidad,domicilio):\n",
        "    self.__nombre = nombre\n",
        "    self.__apellido = apellido\n",
        "    self.__dni = dni\n",
        "    self.__nacionalidad = nacionalidad\n",
        "    self.__domicilio = domicilio\n",
        "  def __str__(self):\n",
        "    return f\"Nombre: {self.__nombre} \\nApellido: {self.__apellido}\"\n",
        "\n",
        "  def getNombre(self):\n",
        "    return f\"{self.__nombre}\"\n",
        "\n",
        "  def getApellido(self):\n",
        "    return f\"{self.__apellido}\"\n",
        "\n",
        "  def getDni(self):\n",
        "    return f\"{self.__dni}\"\n",
        "\n",
        "  def getNacionalidad(self):\n",
        "    return f\"{self.__nacionalidad}\"\n",
        "\n",
        "  def getDomicilio(self):\n",
        "    return f\"{self.__domicilio}\"\n",
        "\n",
        "  def setDomicilio(self, nuevo_domicilio):\n",
        "    self.__domicilio = nuevo_domicilio\n",
        "\n",
        "alumna1 = Persona(\"Agustina\", \"Stout\", 00000000, \"Argentina\", \"Buenos Aires\")\n",
        "\n",
        "alumna1.getNacionalidad()\n",
        "alumna1.setDomicilio(\"Bolivia 4465\")\n",
        "alumna1.getDomicilio()\n",
        "\n",
        "class EmpleadoAlkemy(Persona):\n",
        "  def __init__(self, nombre, apellido, dni, nacionalidad, domicilio, cvu, cargo, estado_cobro = False):\n",
        "    super().__init__(nombre, apellido, dni, nacionalidad, domicilio)\n",
        "    self.__cvu = cvu\n",
        "    self.__cargo = cargo\n",
        "    self.__estado_cobro = estado_cobro\n",
        "\n",
        "  def __str__(self):\n",
        "    return f\"{self.getNombre()} {self.getApellido()} se desempeña como {self.__cargo}\"\n",
        "\n",
        "  def getCargo(self):\n",
        "    return f\"{self.__cargo}\"\n",
        "\n",
        "  def getEstadoCobro (self):\n",
        "    return f\"{self.__estado_cobro}\"\n",
        "\n",
        "  def setCargo(self, nuevo_cargo):\n",
        "    self.__cargo = nuevo_cargo\n",
        "\n",
        "  def setEstadoCobro (self, nuevo_estado_cobro):\n",
        "    self.__estado_cobro = nuevo_estado_cobro\n",
        "\n",
        "  def depositarSueldo(self): #Creamos nuestro metodo depositarSueldo\n",
        "    if self.__estado_cobro:\n",
        "      return f\"A la cuenta {self.__cvu} de {self.getNombre()} {self.getApellido()} se le deposito el sueldo de {self.__cargo}\"\n",
        "    else:\n",
        "      return f\"Usted no ha trabajado el ultimo mes\"\n",
        "\n",
        "empleado1 = EmpleadoAlkemy(\"Pablo\", \"Rott\", 00000000, \"Argentina\", \"Buenos Aires\", 11111111, \"Profesor\")\n",
        "print(empleado1)\n",
        "\n",
        "\n",
        "empleado1.setEstadoCobro(False)\n",
        "empleado1.getEstadoCobro()\n",
        "empleado1.depositarSueldo()"
      ],
      "metadata": {
        "id": "vHhp7TdmHHC0",
        "colab": {
          "base_uri": "https://localhost:8080/",
          "height": 53
        },
        "outputId": "6cc8c23e-d021-4d3e-f015-f4de229cfee3"
      },
      "execution_count": null,
      "outputs": [
        {
          "output_type": "stream",
          "name": "stdout",
          "text": [
            "Pablo Rott se desempeña como Profesor\n"
          ]
        },
        {
          "output_type": "execute_result",
          "data": {
            "text/plain": [
              "'Usted no ha trabajado el ultimo mes'"
            ],
            "application/vnd.google.colaboratory.intrinsic+json": {
              "type": "string"
            }
          },
          "metadata": {},
          "execution_count": 24
        }
      ]
    },
    {
      "cell_type": "code",
      "source": [
        "\n",
        "class AlumnoAlkemy(Persona):\n",
        "  def __init__(self, nombre, apellido, dni, nacionalidad, domicilio, nota_final, comision = \"Analisis datos\", matricula_cancelada = False):\n",
        "    super().__init__(nombre, apellido, dni, nacionalidad, domicilio)\n",
        "    self.__nota_final = nota_final\n",
        "    self.__comision = comision\n",
        "    self.__matricula_cancelada = matricula_cancelada\n",
        "\n",
        "  def __str__(self):\n",
        "    return f\"{self.getNombre()} {self.getApellido()} estudia {self.__comision}\"\n",
        "\n",
        "  def getNotaFinal(self):\n",
        "    return f\"{self.__nota_final}\"\n",
        "\n",
        "  def getComision (self):\n",
        "    return f\"{self.__comision}\"\n",
        "\n",
        "  def getMatriculaCancelada (self):\n",
        "    return f\"{self.__matricula_cancelada}\"\n",
        "\n",
        "  def setMatriculaCancelada(self, cambio_matricula):\n",
        "    self.__matricula_cancelada = cambio_matricula\n",
        "\n",
        "  def recibirCertificado(self):\n",
        "    if self.__matricula_cancelada:\n",
        "      return f\"La alumna {self.getNombre()} {self.getApellido()} obtuvo una nota de {self.__nota_final} durante su cursada en {self.__comision}\"\n",
        "    else:\n",
        "      return f\"Por favor cancele su matricula\"\n",
        "\n",
        "alumna1 = AlumnoAlkemy(\"Agustina\", \"Stout\", 000000000, \"Argentina\", \"Buenos Aires\",7)\n",
        "print(alumna1)\n",
        "alumna1.setMatriculaCancelada(True)\n",
        "alumna1.recibirCertificado()"
      ],
      "metadata": {
        "colab": {
          "base_uri": "https://localhost:8080/",
          "height": 53
        },
        "id": "DS2xg52csWwR",
        "outputId": "01669f62-6143-40d4-d944-21570d9b24e2"
      },
      "execution_count": null,
      "outputs": [
        {
          "output_type": "stream",
          "name": "stdout",
          "text": [
            "Agustina Stout estudia Analisis datos\n"
          ]
        },
        {
          "output_type": "execute_result",
          "data": {
            "text/plain": [
              "'La alumna Agustina Stout obtuvo una nota de 7 durante su cursada en Analisis datos'"
            ],
            "application/vnd.google.colaboratory.intrinsic+json": {
              "type": "string"
            }
          },
          "metadata": {},
          "execution_count": 28
        }
      ]
    },
    {
      "cell_type": "markdown",
      "source": [
        "Ejercicio 1.3\n",
        "Creemos otro ejemplo y veamos que al trabajar con atributos publicos no es necesario tener que crear los getter y setter.\n",
        "\n",
        "Clase padre -> Animal\n",
        "\n",
        "Atributos: clase, especie, tipo (public)\n",
        "Metodo: emitir sonido (pass)\n",
        "Clase hija -> Perro\n",
        "\n",
        "Atributos propios: nombre (private)\n",
        "Metodos propios: darPata\n",
        "Clase hija -> Gallina\n",
        "\n",
        "Atributos propios = huevos (default False)\n",
        "Metodos propios: hacerTortilla (solo si huevos = True)"
      ],
      "metadata": {
        "id": "pQrbjjul1RxA"
      }
    },
    {
      "cell_type": "code",
      "source": [
        "class Animal:\n",
        "  def __init__(self,clase, especie, tipo):\n",
        "    self.clase = clase\n",
        "    self.especie = especie\n",
        "    self.tipo = tipo\n",
        "\n",
        "  def emitirSonido(self):\n",
        "   pass\n",
        "\n",
        "  def __str__(self):\n",
        "    return f\"Clase: {self.clase}, Especie: {self.especie}, Tipo: {self.tipo}\"\n",
        "\n",
        "class Perro(Animal):\n",
        "  def __init__(self, clase, especie, tipo, nombre):\n",
        "    super().__init__(clase, especie, tipo)\n",
        "    self.__nombre = nombre\n",
        "  def __str__(self):\n",
        "    return f\"Nombre: {self.__nombre}, Clase: {self.clase}, Especie: {self.especie}, Tipo: {self.tipo}\"\n",
        "\n",
        "  def getNombre(self):\n",
        "    return f\"{self.__nombre}\"\n",
        "\n",
        "  def emitirSonido(self):\n",
        "    return \"¡Guau guau!\"\n",
        "\n",
        "  def darPata(self):\n",
        "    return f\"{self.__nombre} da la pata.\"\n",
        "\n",
        "perro = Perro(\"Mamífero\", \"Canino\", \"Domestico\",\"Penny\")\n",
        "print(perro)"
      ],
      "metadata": {
        "id": "3Eki460mLrQx",
        "colab": {
          "base_uri": "https://localhost:8080/"
        },
        "outputId": "8f8d1a3c-4666-4f3a-dece-60ece181c744"
      },
      "execution_count": null,
      "outputs": [
        {
          "output_type": "stream",
          "name": "stdout",
          "text": [
            "Nombre: Penny, Clase: Mamífero, Especie: Canino, Tipo: Domestico\n"
          ]
        }
      ]
    },
    {
      "cell_type": "code",
      "source": [
        "perro.emitirSonido()"
      ],
      "metadata": {
        "colab": {
          "base_uri": "https://localhost:8080/",
          "height": 36
        },
        "id": "nKveJ8hqlZ7w",
        "outputId": "09ad27a4-912b-4abe-ba34-bcac39487aba"
      },
      "execution_count": null,
      "outputs": [
        {
          "output_type": "execute_result",
          "data": {
            "text/plain": [
              "'¡Guau guau!'"
            ],
            "application/vnd.google.colaboratory.intrinsic+json": {
              "type": "string"
            }
          },
          "metadata": {},
          "execution_count": 4
        }
      ]
    },
    {
      "cell_type": "code",
      "source": [
        "class Gallina(Animal):\n",
        "  def __init__(self,clase, especie, tipo,huevos=False):\n",
        "    super().__init__(clase, especie, tipo)\n",
        "    self.huevos = huevos\n",
        "  def __str__(self):\n",
        "    return f\"Clase: {self.clase}, Especie: {self.especie}, Tipo: {self.tipo}, ¿Puso un huevo hoy?: {self.huevos}\"\n",
        "\n",
        "  def emitirSonido(self):\n",
        "    return \"qui qui ri qui\"\n",
        "\n",
        "  def hacerTortilla(self):\n",
        "    if self.huevos:\n",
        "      print(\"Ya puso un huevo puede hacer una tortilla\")\n",
        "    else:\n",
        "      print(\"Aun no puso un huevo\")\n",
        "\n",
        "gallina = Gallina(\"Ave\", \"Gallina\", \"Granja\", False)\n",
        "print(gallina)\n",
        "gallina.hacerTortilla()"
      ],
      "metadata": {
        "colab": {
          "base_uri": "https://localhost:8080/"
        },
        "id": "_UZV2CttloLp",
        "outputId": "d81fcb57-6975-4afe-bdf3-150888335f5f"
      },
      "execution_count": null,
      "outputs": [
        {
          "output_type": "stream",
          "name": "stdout",
          "text": [
            "Clase: Ave, Especie: Gallina, Tipo: Granja, ¿Puso un huevo hoy?: False\n",
            "Aun no puso un huevo\n"
          ]
        }
      ]
    },
    {
      "cell_type": "code",
      "source": [
        "gallina.huevos = True\n",
        "gallina.hacerTortilla()\n",
        "\n",
        "gallina.emitirSonido()"
      ],
      "metadata": {
        "colab": {
          "base_uri": "https://localhost:8080/",
          "height": 53
        },
        "id": "QqNEmMzGnSyV",
        "outputId": "041c42bc-3a66-4711-f91c-290da794d6ed"
      },
      "execution_count": null,
      "outputs": [
        {
          "output_type": "stream",
          "name": "stdout",
          "text": [
            "Ya puso un huevo puede hacer una tortilla\n"
          ]
        },
        {
          "output_type": "execute_result",
          "data": {
            "text/plain": [
              "'qui qui ri qui'"
            ],
            "application/vnd.google.colaboratory.intrinsic+json": {
              "type": "string"
            }
          },
          "metadata": {},
          "execution_count": 11
        }
      ]
    },
    {
      "cell_type": "code",
      "source": [
        "class Vaca(Animal):\n",
        "    def emitirSonido(self):\n",
        "        return \"¡Muu!\"\n",
        "\n",
        "vaca = Vaca(\"Mamifero\", \"Bobino\", \"Granja\")\n",
        "\n",
        "vaca.emitirSonido()"
      ],
      "metadata": {
        "colab": {
          "base_uri": "https://localhost:8080/",
          "height": 36
        },
        "id": "UoCogWPgoOoM",
        "outputId": "55ba1379-961f-4ad5-a4e0-562ccc6d16d2"
      },
      "execution_count": null,
      "outputs": [
        {
          "output_type": "execute_result",
          "data": {
            "text/plain": [
              "'¡Muu!'"
            ],
            "application/vnd.google.colaboratory.intrinsic+json": {
              "type": "string"
            }
          },
          "metadata": {},
          "execution_count": 19
        }
      ]
    }
  ]
}